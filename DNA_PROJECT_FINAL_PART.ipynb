{
  "cells": [
    {
      "cell_type": "markdown",
      "metadata": {
        "id": "view-in-github",
        "colab_type": "text"
      },
      "source": [
        "<a href=\"https://colab.research.google.com/github/GasanaElysee12/DNA-Classification-with-kernel-methods/blob/main/DNA_PROJECT_FINAL_PART.ipynb\" target=\"_parent\"><img src=\"https://colab.research.google.com/assets/colab-badge.svg\" alt=\"Open In Colab\"/></a>"
      ]
    },
    {
      "cell_type": "markdown",
      "id": "74309cef",
      "metadata": {
        "id": "74309cef"
      },
      "source": [
        "# Let start by initializing the required python Libraries in this work We will be classifiying whether the input sequence of DNA has CovID-19 or not."
      ]
    },
    {
      "cell_type": "code",
      "execution_count": null,
      "id": "bfbf383e",
      "metadata": {
        "id": "bfbf383e"
      },
      "outputs": [],
      "source": [
        "import numpy as np\n",
        "import pandas as pd\n",
        "import cvxopt\n",
        "from cvxopt import matrix\n",
        "import cvxpy as cp\n",
        "import scipy.sparse as sparse\n",
        "from tqdm import tqdm\n",
        "import pickle\n"
      ]
    },
    {
      "cell_type": "markdown",
      "source": [
        "# Reading of the data and make ID index by dropping the index column."
      ],
      "metadata": {
        "id": "743hkfRw5yEy"
      },
      "id": "743hkfRw5yEy"
    },
    {
      "cell_type": "code",
      "source": [
        "X_train = pd.read_csv(\"/content/Xtr.csv\", sep=\",\", index_col=0)\n",
        "X_test = pd.read_csv(\"/content/Xte.csv\", sep=\",\", index_col=0)\n",
        "Y_train = pd.read_csv(\"/content/Ytr.csv\", sep=\",\", index_col=0)"
      ],
      "metadata": {
        "id": "rVxGSAWi5xWF"
      },
      "id": "rVxGSAWi5xWF",
      "execution_count": null,
      "outputs": []
    },
    {
      "cell_type": "markdown",
      "source": [
        "# Let's check what are in the datasets"
      ],
      "metadata": {
        "id": "1OmZALfO6A7N"
      },
      "id": "1OmZALfO6A7N"
    },
    {
      "cell_type": "code",
      "source": [
        "# Training example\n",
        "X_train.head()"
      ],
      "metadata": {
        "colab": {
          "base_uri": "https://localhost:8080/",
          "height": 237
        },
        "id": "-He0Yjc756Pn",
        "outputId": "1115d542-9d4a-45b8-937a-4f52e00d9dba"
      },
      "id": "-He0Yjc756Pn",
      "execution_count": null,
      "outputs": [
        {
          "output_type": "execute_result",
          "data": {
            "text/plain": [
              "                                             Sequence\n",
              "Id                                                   \n",
              "1   TCTTCCATCGTTGATAGTGTTACATTGAAGAATGCGACGATCCATC...\n",
              "2   CTTCTTCAGTAATTACCTCAAGAGACGTTTAGTCTCTAATGGTGTT...\n",
              "3   GTCTATGGTGCTGCTGTTGTTTACCGGGGTACAACAACTTACAAAT...\n",
              "4   ATTCGCCATGAGTAAATTTCCCCTTAAATTAGGGGGTTCAGCTGTT...\n",
              "5   CAGACAAAACATTTGTGTCTGGTAACTGTGATGTTGTAATAGGAAT..."
            ],
            "text/html": [
              "\n",
              "  <div id=\"df-1b49a73a-afff-47c1-afa9-baada5464b3f\">\n",
              "    <div class=\"colab-df-container\">\n",
              "      <div>\n",
              "<style scoped>\n",
              "    .dataframe tbody tr th:only-of-type {\n",
              "        vertical-align: middle;\n",
              "    }\n",
              "\n",
              "    .dataframe tbody tr th {\n",
              "        vertical-align: top;\n",
              "    }\n",
              "\n",
              "    .dataframe thead th {\n",
              "        text-align: right;\n",
              "    }\n",
              "</style>\n",
              "<table border=\"1\" class=\"dataframe\">\n",
              "  <thead>\n",
              "    <tr style=\"text-align: right;\">\n",
              "      <th></th>\n",
              "      <th>Sequence</th>\n",
              "    </tr>\n",
              "    <tr>\n",
              "      <th>Id</th>\n",
              "      <th></th>\n",
              "    </tr>\n",
              "  </thead>\n",
              "  <tbody>\n",
              "    <tr>\n",
              "      <th>1</th>\n",
              "      <td>TCTTCCATCGTTGATAGTGTTACATTGAAGAATGCGACGATCCATC...</td>\n",
              "    </tr>\n",
              "    <tr>\n",
              "      <th>2</th>\n",
              "      <td>CTTCTTCAGTAATTACCTCAAGAGACGTTTAGTCTCTAATGGTGTT...</td>\n",
              "    </tr>\n",
              "    <tr>\n",
              "      <th>3</th>\n",
              "      <td>GTCTATGGTGCTGCTGTTGTTTACCGGGGTACAACAACTTACAAAT...</td>\n",
              "    </tr>\n",
              "    <tr>\n",
              "      <th>4</th>\n",
              "      <td>ATTCGCCATGAGTAAATTTCCCCTTAAATTAGGGGGTTCAGCTGTT...</td>\n",
              "    </tr>\n",
              "    <tr>\n",
              "      <th>5</th>\n",
              "      <td>CAGACAAAACATTTGTGTCTGGTAACTGTGATGTTGTAATAGGAAT...</td>\n",
              "    </tr>\n",
              "  </tbody>\n",
              "</table>\n",
              "</div>\n",
              "      <button class=\"colab-df-convert\" onclick=\"convertToInteractive('df-1b49a73a-afff-47c1-afa9-baada5464b3f')\"\n",
              "              title=\"Convert this dataframe to an interactive table.\"\n",
              "              style=\"display:none;\">\n",
              "        \n",
              "  <svg xmlns=\"http://www.w3.org/2000/svg\" height=\"24px\"viewBox=\"0 0 24 24\"\n",
              "       width=\"24px\">\n",
              "    <path d=\"M0 0h24v24H0V0z\" fill=\"none\"/>\n",
              "    <path d=\"M18.56 5.44l.94 2.06.94-2.06 2.06-.94-2.06-.94-.94-2.06-.94 2.06-2.06.94zm-11 1L8.5 8.5l.94-2.06 2.06-.94-2.06-.94L8.5 2.5l-.94 2.06-2.06.94zm10 10l.94 2.06.94-2.06 2.06-.94-2.06-.94-.94-2.06-.94 2.06-2.06.94z\"/><path d=\"M17.41 7.96l-1.37-1.37c-.4-.4-.92-.59-1.43-.59-.52 0-1.04.2-1.43.59L10.3 9.45l-7.72 7.72c-.78.78-.78 2.05 0 2.83L4 21.41c.39.39.9.59 1.41.59.51 0 1.02-.2 1.41-.59l7.78-7.78 2.81-2.81c.8-.78.8-2.07 0-2.86zM5.41 20L4 18.59l7.72-7.72 1.47 1.35L5.41 20z\"/>\n",
              "  </svg>\n",
              "      </button>\n",
              "      \n",
              "  <style>\n",
              "    .colab-df-container {\n",
              "      display:flex;\n",
              "      flex-wrap:wrap;\n",
              "      gap: 12px;\n",
              "    }\n",
              "\n",
              "    .colab-df-convert {\n",
              "      background-color: #E8F0FE;\n",
              "      border: none;\n",
              "      border-radius: 50%;\n",
              "      cursor: pointer;\n",
              "      display: none;\n",
              "      fill: #1967D2;\n",
              "      height: 32px;\n",
              "      padding: 0 0 0 0;\n",
              "      width: 32px;\n",
              "    }\n",
              "\n",
              "    .colab-df-convert:hover {\n",
              "      background-color: #E2EBFA;\n",
              "      box-shadow: 0px 1px 2px rgba(60, 64, 67, 0.3), 0px 1px 3px 1px rgba(60, 64, 67, 0.15);\n",
              "      fill: #174EA6;\n",
              "    }\n",
              "\n",
              "    [theme=dark] .colab-df-convert {\n",
              "      background-color: #3B4455;\n",
              "      fill: #D2E3FC;\n",
              "    }\n",
              "\n",
              "    [theme=dark] .colab-df-convert:hover {\n",
              "      background-color: #434B5C;\n",
              "      box-shadow: 0px 1px 3px 1px rgba(0, 0, 0, 0.15);\n",
              "      filter: drop-shadow(0px 1px 2px rgba(0, 0, 0, 0.3));\n",
              "      fill: #FFFFFF;\n",
              "    }\n",
              "  </style>\n",
              "\n",
              "      <script>\n",
              "        const buttonEl =\n",
              "          document.querySelector('#df-1b49a73a-afff-47c1-afa9-baada5464b3f button.colab-df-convert');\n",
              "        buttonEl.style.display =\n",
              "          google.colab.kernel.accessAllowed ? 'block' : 'none';\n",
              "\n",
              "        async function convertToInteractive(key) {\n",
              "          const element = document.querySelector('#df-1b49a73a-afff-47c1-afa9-baada5464b3f');\n",
              "          const dataTable =\n",
              "            await google.colab.kernel.invokeFunction('convertToInteractive',\n",
              "                                                     [key], {});\n",
              "          if (!dataTable) return;\n",
              "\n",
              "          const docLinkHtml = 'Like what you see? Visit the ' +\n",
              "            '<a target=\"_blank\" href=https://colab.research.google.com/notebooks/data_table.ipynb>data table notebook</a>'\n",
              "            + ' to learn more about interactive tables.';\n",
              "          element.innerHTML = '';\n",
              "          dataTable['output_type'] = 'display_data';\n",
              "          await google.colab.output.renderOutput(dataTable, element);\n",
              "          const docLink = document.createElement('div');\n",
              "          docLink.innerHTML = docLinkHtml;\n",
              "          element.appendChild(docLink);\n",
              "        }\n",
              "      </script>\n",
              "    </div>\n",
              "  </div>\n",
              "  "
            ]
          },
          "metadata": {},
          "execution_count": 41
        }
      ]
    },
    {
      "cell_type": "code",
      "source": [
        "#Test example\n",
        "X_test.head()"
      ],
      "metadata": {
        "colab": {
          "base_uri": "https://localhost:8080/",
          "height": 237
        },
        "id": "d7d8bcpR56HS",
        "outputId": "94956cc0-3298-4afa-f56e-61174a1afdc7"
      },
      "id": "d7d8bcpR56HS",
      "execution_count": null,
      "outputs": [
        {
          "output_type": "execute_result",
          "data": {
            "text/plain": [
              "                                             Sequence\n",
              "Id                                                   \n",
              "1   GGAGCATATCTGGCAGGCCTGGTGCCGGCGCCATGGCGTGGGCTGG...\n",
              "2   ACTGTTTTACCACCTTTTCTCACAGATGACATGTTTGCTCCATACA...\n",
              "3   TTGTTAGATTTCTTAATATTACAAAGTTGTGCACTTTTGGTGAAGT...\n",
              "4   ACCTTCGCCATCAGCCTGCGCCCTTCATCGGCGCGTCACTGGTTAA...\n",
              "5   ATTCACAGACCATTCCAGGAGCAGTGACAATATTGCTTTGCATGAA..."
            ],
            "text/html": [
              "\n",
              "  <div id=\"df-960b7185-881f-467a-b57f-202b5a8b6abb\">\n",
              "    <div class=\"colab-df-container\">\n",
              "      <div>\n",
              "<style scoped>\n",
              "    .dataframe tbody tr th:only-of-type {\n",
              "        vertical-align: middle;\n",
              "    }\n",
              "\n",
              "    .dataframe tbody tr th {\n",
              "        vertical-align: top;\n",
              "    }\n",
              "\n",
              "    .dataframe thead th {\n",
              "        text-align: right;\n",
              "    }\n",
              "</style>\n",
              "<table border=\"1\" class=\"dataframe\">\n",
              "  <thead>\n",
              "    <tr style=\"text-align: right;\">\n",
              "      <th></th>\n",
              "      <th>Sequence</th>\n",
              "    </tr>\n",
              "    <tr>\n",
              "      <th>Id</th>\n",
              "      <th></th>\n",
              "    </tr>\n",
              "  </thead>\n",
              "  <tbody>\n",
              "    <tr>\n",
              "      <th>1</th>\n",
              "      <td>GGAGCATATCTGGCAGGCCTGGTGCCGGCGCCATGGCGTGGGCTGG...</td>\n",
              "    </tr>\n",
              "    <tr>\n",
              "      <th>2</th>\n",
              "      <td>ACTGTTTTACCACCTTTTCTCACAGATGACATGTTTGCTCCATACA...</td>\n",
              "    </tr>\n",
              "    <tr>\n",
              "      <th>3</th>\n",
              "      <td>TTGTTAGATTTCTTAATATTACAAAGTTGTGCACTTTTGGTGAAGT...</td>\n",
              "    </tr>\n",
              "    <tr>\n",
              "      <th>4</th>\n",
              "      <td>ACCTTCGCCATCAGCCTGCGCCCTTCATCGGCGCGTCACTGGTTAA...</td>\n",
              "    </tr>\n",
              "    <tr>\n",
              "      <th>5</th>\n",
              "      <td>ATTCACAGACCATTCCAGGAGCAGTGACAATATTGCTTTGCATGAA...</td>\n",
              "    </tr>\n",
              "  </tbody>\n",
              "</table>\n",
              "</div>\n",
              "      <button class=\"colab-df-convert\" onclick=\"convertToInteractive('df-960b7185-881f-467a-b57f-202b5a8b6abb')\"\n",
              "              title=\"Convert this dataframe to an interactive table.\"\n",
              "              style=\"display:none;\">\n",
              "        \n",
              "  <svg xmlns=\"http://www.w3.org/2000/svg\" height=\"24px\"viewBox=\"0 0 24 24\"\n",
              "       width=\"24px\">\n",
              "    <path d=\"M0 0h24v24H0V0z\" fill=\"none\"/>\n",
              "    <path d=\"M18.56 5.44l.94 2.06.94-2.06 2.06-.94-2.06-.94-.94-2.06-.94 2.06-2.06.94zm-11 1L8.5 8.5l.94-2.06 2.06-.94-2.06-.94L8.5 2.5l-.94 2.06-2.06.94zm10 10l.94 2.06.94-2.06 2.06-.94-2.06-.94-.94-2.06-.94 2.06-2.06.94z\"/><path d=\"M17.41 7.96l-1.37-1.37c-.4-.4-.92-.59-1.43-.59-.52 0-1.04.2-1.43.59L10.3 9.45l-7.72 7.72c-.78.78-.78 2.05 0 2.83L4 21.41c.39.39.9.59 1.41.59.51 0 1.02-.2 1.41-.59l7.78-7.78 2.81-2.81c.8-.78.8-2.07 0-2.86zM5.41 20L4 18.59l7.72-7.72 1.47 1.35L5.41 20z\"/>\n",
              "  </svg>\n",
              "      </button>\n",
              "      \n",
              "  <style>\n",
              "    .colab-df-container {\n",
              "      display:flex;\n",
              "      flex-wrap:wrap;\n",
              "      gap: 12px;\n",
              "    }\n",
              "\n",
              "    .colab-df-convert {\n",
              "      background-color: #E8F0FE;\n",
              "      border: none;\n",
              "      border-radius: 50%;\n",
              "      cursor: pointer;\n",
              "      display: none;\n",
              "      fill: #1967D2;\n",
              "      height: 32px;\n",
              "      padding: 0 0 0 0;\n",
              "      width: 32px;\n",
              "    }\n",
              "\n",
              "    .colab-df-convert:hover {\n",
              "      background-color: #E2EBFA;\n",
              "      box-shadow: 0px 1px 2px rgba(60, 64, 67, 0.3), 0px 1px 3px 1px rgba(60, 64, 67, 0.15);\n",
              "      fill: #174EA6;\n",
              "    }\n",
              "\n",
              "    [theme=dark] .colab-df-convert {\n",
              "      background-color: #3B4455;\n",
              "      fill: #D2E3FC;\n",
              "    }\n",
              "\n",
              "    [theme=dark] .colab-df-convert:hover {\n",
              "      background-color: #434B5C;\n",
              "      box-shadow: 0px 1px 3px 1px rgba(0, 0, 0, 0.15);\n",
              "      filter: drop-shadow(0px 1px 2px rgba(0, 0, 0, 0.3));\n",
              "      fill: #FFFFFF;\n",
              "    }\n",
              "  </style>\n",
              "\n",
              "      <script>\n",
              "        const buttonEl =\n",
              "          document.querySelector('#df-960b7185-881f-467a-b57f-202b5a8b6abb button.colab-df-convert');\n",
              "        buttonEl.style.display =\n",
              "          google.colab.kernel.accessAllowed ? 'block' : 'none';\n",
              "\n",
              "        async function convertToInteractive(key) {\n",
              "          const element = document.querySelector('#df-960b7185-881f-467a-b57f-202b5a8b6abb');\n",
              "          const dataTable =\n",
              "            await google.colab.kernel.invokeFunction('convertToInteractive',\n",
              "                                                     [key], {});\n",
              "          if (!dataTable) return;\n",
              "\n",
              "          const docLinkHtml = 'Like what you see? Visit the ' +\n",
              "            '<a target=\"_blank\" href=https://colab.research.google.com/notebooks/data_table.ipynb>data table notebook</a>'\n",
              "            + ' to learn more about interactive tables.';\n",
              "          element.innerHTML = '';\n",
              "          dataTable['output_type'] = 'display_data';\n",
              "          await google.colab.output.renderOutput(dataTable, element);\n",
              "          const docLink = document.createElement('div');\n",
              "          docLink.innerHTML = docLinkHtml;\n",
              "          element.appendChild(docLink);\n",
              "        }\n",
              "      </script>\n",
              "    </div>\n",
              "  </div>\n",
              "  "
            ]
          },
          "metadata": {},
          "execution_count": 42
        }
      ]
    },
    {
      "cell_type": "code",
      "source": [
        "#y_train example\n",
        "Y_train.head()"
      ],
      "metadata": {
        "colab": {
          "base_uri": "https://localhost:8080/",
          "height": 237
        },
        "id": "r7fXzrQw55_n",
        "outputId": "ac1fa7d4-7f2b-439b-b7f3-0404b5dadf22"
      },
      "id": "r7fXzrQw55_n",
      "execution_count": null,
      "outputs": [
        {
          "output_type": "execute_result",
          "data": {
            "text/plain": [
              "    Covid\n",
              "Id       \n",
              "1       1\n",
              "2       1\n",
              "3       1\n",
              "4       1\n",
              "5       1"
            ],
            "text/html": [
              "\n",
              "  <div id=\"df-a7b8f536-87e8-436a-9ace-d0e4c6976453\">\n",
              "    <div class=\"colab-df-container\">\n",
              "      <div>\n",
              "<style scoped>\n",
              "    .dataframe tbody tr th:only-of-type {\n",
              "        vertical-align: middle;\n",
              "    }\n",
              "\n",
              "    .dataframe tbody tr th {\n",
              "        vertical-align: top;\n",
              "    }\n",
              "\n",
              "    .dataframe thead th {\n",
              "        text-align: right;\n",
              "    }\n",
              "</style>\n",
              "<table border=\"1\" class=\"dataframe\">\n",
              "  <thead>\n",
              "    <tr style=\"text-align: right;\">\n",
              "      <th></th>\n",
              "      <th>Covid</th>\n",
              "    </tr>\n",
              "    <tr>\n",
              "      <th>Id</th>\n",
              "      <th></th>\n",
              "    </tr>\n",
              "  </thead>\n",
              "  <tbody>\n",
              "    <tr>\n",
              "      <th>1</th>\n",
              "      <td>1</td>\n",
              "    </tr>\n",
              "    <tr>\n",
              "      <th>2</th>\n",
              "      <td>1</td>\n",
              "    </tr>\n",
              "    <tr>\n",
              "      <th>3</th>\n",
              "      <td>1</td>\n",
              "    </tr>\n",
              "    <tr>\n",
              "      <th>4</th>\n",
              "      <td>1</td>\n",
              "    </tr>\n",
              "    <tr>\n",
              "      <th>5</th>\n",
              "      <td>1</td>\n",
              "    </tr>\n",
              "  </tbody>\n",
              "</table>\n",
              "</div>\n",
              "      <button class=\"colab-df-convert\" onclick=\"convertToInteractive('df-a7b8f536-87e8-436a-9ace-d0e4c6976453')\"\n",
              "              title=\"Convert this dataframe to an interactive table.\"\n",
              "              style=\"display:none;\">\n",
              "        \n",
              "  <svg xmlns=\"http://www.w3.org/2000/svg\" height=\"24px\"viewBox=\"0 0 24 24\"\n",
              "       width=\"24px\">\n",
              "    <path d=\"M0 0h24v24H0V0z\" fill=\"none\"/>\n",
              "    <path d=\"M18.56 5.44l.94 2.06.94-2.06 2.06-.94-2.06-.94-.94-2.06-.94 2.06-2.06.94zm-11 1L8.5 8.5l.94-2.06 2.06-.94-2.06-.94L8.5 2.5l-.94 2.06-2.06.94zm10 10l.94 2.06.94-2.06 2.06-.94-2.06-.94-.94-2.06-.94 2.06-2.06.94z\"/><path d=\"M17.41 7.96l-1.37-1.37c-.4-.4-.92-.59-1.43-.59-.52 0-1.04.2-1.43.59L10.3 9.45l-7.72 7.72c-.78.78-.78 2.05 0 2.83L4 21.41c.39.39.9.59 1.41.59.51 0 1.02-.2 1.41-.59l7.78-7.78 2.81-2.81c.8-.78.8-2.07 0-2.86zM5.41 20L4 18.59l7.72-7.72 1.47 1.35L5.41 20z\"/>\n",
              "  </svg>\n",
              "      </button>\n",
              "      \n",
              "  <style>\n",
              "    .colab-df-container {\n",
              "      display:flex;\n",
              "      flex-wrap:wrap;\n",
              "      gap: 12px;\n",
              "    }\n",
              "\n",
              "    .colab-df-convert {\n",
              "      background-color: #E8F0FE;\n",
              "      border: none;\n",
              "      border-radius: 50%;\n",
              "      cursor: pointer;\n",
              "      display: none;\n",
              "      fill: #1967D2;\n",
              "      height: 32px;\n",
              "      padding: 0 0 0 0;\n",
              "      width: 32px;\n",
              "    }\n",
              "\n",
              "    .colab-df-convert:hover {\n",
              "      background-color: #E2EBFA;\n",
              "      box-shadow: 0px 1px 2px rgba(60, 64, 67, 0.3), 0px 1px 3px 1px rgba(60, 64, 67, 0.15);\n",
              "      fill: #174EA6;\n",
              "    }\n",
              "\n",
              "    [theme=dark] .colab-df-convert {\n",
              "      background-color: #3B4455;\n",
              "      fill: #D2E3FC;\n",
              "    }\n",
              "\n",
              "    [theme=dark] .colab-df-convert:hover {\n",
              "      background-color: #434B5C;\n",
              "      box-shadow: 0px 1px 3px 1px rgba(0, 0, 0, 0.15);\n",
              "      filter: drop-shadow(0px 1px 2px rgba(0, 0, 0, 0.3));\n",
              "      fill: #FFFFFF;\n",
              "    }\n",
              "  </style>\n",
              "\n",
              "      <script>\n",
              "        const buttonEl =\n",
              "          document.querySelector('#df-a7b8f536-87e8-436a-9ace-d0e4c6976453 button.colab-df-convert');\n",
              "        buttonEl.style.display =\n",
              "          google.colab.kernel.accessAllowed ? 'block' : 'none';\n",
              "\n",
              "        async function convertToInteractive(key) {\n",
              "          const element = document.querySelector('#df-a7b8f536-87e8-436a-9ace-d0e4c6976453');\n",
              "          const dataTable =\n",
              "            await google.colab.kernel.invokeFunction('convertToInteractive',\n",
              "                                                     [key], {});\n",
              "          if (!dataTable) return;\n",
              "\n",
              "          const docLinkHtml = 'Like what you see? Visit the ' +\n",
              "            '<a target=\"_blank\" href=https://colab.research.google.com/notebooks/data_table.ipynb>data table notebook</a>'\n",
              "            + ' to learn more about interactive tables.';\n",
              "          element.innerHTML = '';\n",
              "          dataTable['output_type'] = 'display_data';\n",
              "          await google.colab.output.renderOutput(dataTable, element);\n",
              "          const docLink = document.createElement('div');\n",
              "          docLink.innerHTML = docLinkHtml;\n",
              "          element.appendChild(docLink);\n",
              "        }\n",
              "      </script>\n",
              "    </div>\n",
              "  </div>\n",
              "  "
            ]
          },
          "metadata": {},
          "execution_count": 43
        }
      ]
    },
    {
      "cell_type": "markdown",
      "source": [
        "# Convert  the data into numpy array values"
      ],
      "metadata": {
        "id": "AIwfjlaL68OG"
      },
      "id": "AIwfjlaL68OG"
    },
    {
      "cell_type": "code",
      "source": [
        "\n",
        "X_train= X_train.values\n",
        "X_test = X_test.values\n",
        "Y_train = Y_train.values"
      ],
      "metadata": {
        "colab": {
          "base_uri": "https://localhost:8080/",
          "height": 221
        },
        "id": "X6Xb9c2-554E",
        "outputId": "70b83246-a21f-468c-a04f-4bc4e7853ab5"
      },
      "id": "X6Xb9c2-554E",
      "execution_count": null,
      "outputs": [
        {
          "output_type": "error",
          "ename": "AttributeError",
          "evalue": "ignored",
          "traceback": [
            "\u001b[0;31m---------------------------------------------------------------------------\u001b[0m",
            "\u001b[0;31mAttributeError\u001b[0m                            Traceback (most recent call last)",
            "\u001b[0;32m<ipython-input-64-05eec3752fb1>\u001b[0m in \u001b[0;36m<module>\u001b[0;34m()\u001b[0m\n\u001b[1;32m      1\u001b[0m \u001b[0;34m\u001b[0m\u001b[0m\n\u001b[0;32m----> 2\u001b[0;31m \u001b[0mX_train\u001b[0m\u001b[0;34m=\u001b[0m \u001b[0mX_train\u001b[0m\u001b[0;34m.\u001b[0m\u001b[0mvalues\u001b[0m\u001b[0;34m\u001b[0m\u001b[0;34m\u001b[0m\u001b[0m\n\u001b[0m\u001b[1;32m      3\u001b[0m \u001b[0mX_test\u001b[0m \u001b[0;34m=\u001b[0m \u001b[0mX_test\u001b[0m\u001b[0;34m.\u001b[0m\u001b[0mvalues\u001b[0m\u001b[0;34m\u001b[0m\u001b[0;34m\u001b[0m\u001b[0m\n\u001b[1;32m      4\u001b[0m \u001b[0mY_train\u001b[0m \u001b[0;34m=\u001b[0m \u001b[0mY_train\u001b[0m\u001b[0;34m.\u001b[0m\u001b[0mvalues\u001b[0m\u001b[0;34m\u001b[0m\u001b[0;34m\u001b[0m\u001b[0m\n",
            "\u001b[0;31mAttributeError\u001b[0m: 'numpy.ndarray' object has no attribute 'values'"
          ]
        }
      ]
    },
    {
      "cell_type": "markdown",
      "source": [],
      "metadata": {
        "id": "mQQCQ_Zr7Bym"
      },
      "id": "mQQCQ_Zr7Bym"
    },
    {
      "cell_type": "code",
      "source": [
        "\n"
      ],
      "metadata": {
        "id": "ffu-oRhZ7CVp"
      },
      "id": "ffu-oRhZ7CVp",
      "execution_count": null,
      "outputs": []
    },
    {
      "cell_type": "markdown",
      "id": "e12e4d7b",
      "metadata": {
        "id": "e12e4d7b"
      },
      "source": [
        "# In the following cell, this is the parent class of kernel that will be used to initialize similarity, creating n-grams and return matrix of similarity."
      ]
    },
    {
      "cell_type": "code",
      "execution_count": null,
      "id": "2d53f786",
      "metadata": {
        "id": "2d53f786"
      },
      "outputs": [],
      "source": [
        "\n",
        "\n",
        "class Kernel():\n",
        "    \"\"\" Abstract Kernel class\"\"\"\n",
        "\n",
        "    def __init__(self):\n",
        "        pass\n",
        "\n",
        "    def similarity(self, x, y):\n",
        "        \"\"\" Similarity between 2 feature vectors (depends on the type of kernel)\"\"\"\n",
        "        return -1\n",
        "\n",
        "    def gram(self, X1, X2=None):\n",
        "        \"\"\" Compute the gram matrix of a data vector X where the (i,j) entry is defined as <Xi,Xj>\\\\\n",
        "        X1: data vector (n_samples_1 x n_features)\n",
        "        X2: data vector (n_samples_2 x n_features), if None compute the gram matrix for (X1,X1)\n",
        "        \"\"\"\n",
        "        if X2 is None:\n",
        "            X2=X1\n",
        "        n_samples_1 = X1.shape[0]\n",
        "        n_samples_2 = X2.shape[0]\n",
        "        G = np.zeros((n_samples_1, n_samples_2))\n",
        "        for ii in tqdm(range(n_samples_1)):\n",
        "            for jj in range(n_samples_2):\n",
        "                G[ii,jj] = self.similarity(X1[ii], X2[jj])\n",
        "        return G"
      ]
    },
    {
      "cell_type": "markdown",
      "id": "ef55d0e0",
      "metadata": {
        "id": "ef55d0e0"
      },
      "source": [
        "# Down, this is the implementation of the Mismatch Kernel that will help us to detect mismatch based on the similarity between two sequences example"
      ]
    },
    {
      "cell_type": "code",
      "execution_count": null,
      "id": "231444dc",
      "metadata": {
        "id": "231444dc"
      },
      "outputs": [],
      "source": [
        "class MismatchKernel(Kernel):\n",
        "\n",
        "    def __init__(self, k, m, neighbours, kmer_set, normalize=False):\n",
        "        super().__init__()\n",
        "        self.k = k\n",
        "        self.m = m\n",
        "#         self.neigh_kmer=None\n",
        "        self.kmer_set = kmer_set #kmer_set and neighbours have to be pre-computed (to save computational time when running multiple experiments)\n",
        "        self.neighbours = neighbours\n",
        "        self.normalize = normalize\n",
        "\n",
        "    def neighbour_embed_kmer(self, x):\n",
        "        \"\"\"\n",
        "        Embed kmer with neighbours.\n",
        "        x: str\n",
        "        \"\"\"\n",
        "        kmer_x = [x[j:j + self.k] for j in range(len(x) - self.k + 1)]\n",
        "        x_emb = {}\n",
        "        for kmer in kmer_x:\n",
        "#\n",
        "\n",
        "\n",
        "            neigh_kmer = self.neighbours[kmer]\n",
        "\n",
        "\n",
        "            for neigh in neigh_kmer:\n",
        "                idx_neigh = self.kmer_set[neigh]\n",
        "                if idx_neigh in x_emb:\n",
        "                    x_emb[idx_neigh] += 1\n",
        "                else:\n",
        "                    x_emb[idx_neigh] = 1\n",
        "        return x_emb\n",
        "\n",
        "\n",
        "    def neighbour_embed_data(self, X):\n",
        "        \"\"\"\n",
        "        Embed data with neighbours.\n",
        "        X: array of string\n",
        "        \"\"\"\n",
        "        X_emb = []\n",
        "        for i in range(len(X)):\n",
        "            x = X[i]\n",
        "            x_emb = self.neighbour_embed_kmer(x)\n",
        "            X_emb.append(x_emb)\n",
        "        return X_emb\n",
        "\n",
        "    def to_sparse(self, X_emb):\n",
        "        \"\"\"\n",
        "        Embed data to sparse matrix.\n",
        "        X_emb: list of dict.\n",
        "        \"\"\"\n",
        "        data, row, col = [], [], []\n",
        "        for i in range(len(X_emb)):\n",
        "            x = X_emb[i]\n",
        "            data += list(x.values())\n",
        "            row += list(x.keys())\n",
        "            col += [i for j in range(len(x))]\n",
        "        X_sm = sparse.coo_matrix((data, (row, col)))\n",
        "        return X_sm\n",
        "\n",
        "    def similarity(self, x, y):\n",
        "        \"\"\" Mismatch kernel \\\\\n",
        "        x, y: are string\n",
        "        \"\"\"\n",
        "        x_emb = self.neighbour_embed_kmer(x)\n",
        "        y_emb = self.neighbour_embed_kmer(y)\n",
        "        sp = 0\n",
        "        for idx_neigh in x_emb:\n",
        "            if idx_neigh in y_emb:\n",
        "                sp += x_emb[idx_neigh] * y_emb[idx_neigh]\n",
        "        if self.normalize:\n",
        "            sp /= np.sqrt(np.sum(np.array(list(x_emb.values()))**2))\n",
        "            sp /= np.sqrt(np.sum(np.array(list(y_emb.values()))**2))\n",
        "        return sp\n",
        "\n",
        "    def gram(self, X1, X2=None):\n",
        "        \"\"\" Compute the gram matrix of a data vector X where the (i,j) entry is defined as <Xi,Xj>\\\\\n",
        "        X1: array of string (n_samples_1,)\n",
        "        X2: array of string (n_samples_2,), if None compute the gram matrix for (X1,X1)\n",
        "        \"\"\"\n",
        "\n",
        "        X1_emb = self.neighbour_embed_data(X1)\n",
        "        X1_sm = self.to_sparse(X1_emb)\n",
        "\n",
        "        if X2 is None:\n",
        "            X2 = X1\n",
        "        X2_emb = self.neighbour_embed_data(X2)\n",
        "        X2_sm = self.to_sparse(X2_emb)\n",
        "\n",
        "        # Reshape matrices if the sizes are different\n",
        "        nadd_row = abs(X1_sm.shape[0] - X2_sm.shape[0])\n",
        "        if X1_sm.shape[0] > X2_sm.shape[0]:\n",
        "            add_row = sparse.coo_matrix(([0], ([nadd_row-1], [X2_sm.shape[1]-1])))\n",
        "            X2_sm = sparse.vstack((X2_sm, add_row))\n",
        "        elif X1_sm.shape[0] < X2_sm.shape[0]:\n",
        "            add_row = sparse.coo_matrix(([0], ([nadd_row - 1], [X1_sm.shape[1] - 1])))\n",
        "            X1_sm = sparse.vstack((X1_sm, add_row))\n",
        "\n",
        "        G = (X1_sm.T * X2_sm).todense().astype('float')\n",
        "\n",
        "        if self.normalize:\n",
        "            G /= np.array(np.sqrt(X1_sm.power(2).sum(0)))[0,:,None]\n",
        "            G /= np.array(np.sqrt(X2_sm.power(2).sum(0)))[0,None,:]\n",
        "\n",
        "        return G"
      ]
    },
    {
      "cell_type": "code",
      "execution_count": null,
      "id": "354f966c",
      "metadata": {
        "id": "354f966c"
      },
      "outputs": [],
      "source": []
    },
    {
      "cell_type": "markdown",
      "id": "80eb53a3",
      "metadata": {
        "id": "80eb53a3"
      },
      "source": [
        "# Down this is the SVM model that will be used as classifier:"
      ]
    },
    {
      "cell_type": "code",
      "execution_count": null,
      "id": "b1267caa",
      "metadata": {
        "id": "b1267caa"
      },
      "outputs": [],
      "source": [
        "\n",
        "\n",
        "class SVM():\n",
        "    \"\"\"\n",
        "    SVM implementation\n",
        "\n",
        "  Method that will be used and its arguments:\n",
        "        svm = SVM(kernel='linear', C=1)\n",
        "        svm.fit(X_train, y_train)\n",
        "        svm.predict(X_test)\n",
        "    \"\"\"\n",
        "\n",
        "    def __init__(self, kernel, C=1.50, tol_support_vectors=1e-4):\n",
        "        \"\"\"\n",
        "        kernel: it represents the kernel to use\n",
        "        C: float > 0, default=1.0, regularization parameter for error once we have non linear\n",
        "           separable data\n",
        "        tol_support_vectors: Is the threshold alpha value for considering vectors as support vectors\n",
        "        \"\"\"\n",
        "        self.kernel = kernel\n",
        "        self.C = C\n",
        "        self.tol_support_vectors = tol_support_vectors\n",
        "\n",
        "    def fit(self, X, y):\n",
        "\n",
        "        self.X_train = X\n",
        "        n_samples = X.shape[0]\n",
        "        print(\"Computing the kernel Start\")\n",
        "        self.X_train_gram = self.kernel.gram(X)\n",
        "        print(\"Computation is done!\")\n",
        "\n",
        "        #The following matrix will help to define the optimization problem that we have tosolve\n",
        "\n",
        "        P = self.X_train_gram\n",
        "        q = -y.astype('float')\n",
        "        G = np.block([[np.diag(np.squeeze(y).astype('float'))],[-np.diag(np.squeeze(y).astype('float'))]])\n",
        "        h = np.concatenate((self.C*np.ones(n_samples),np.zeros(n_samples)))\n",
        "\n",
        "        # cvxopt will help to Solve the problem, using quadratic programming\n",
        "\n",
        "\n",
        "        P=matrix(P)\n",
        "        q=matrix(q)\n",
        "        G=matrix(G)\n",
        "        h=matrix(h)\n",
        "        solver = cvxopt.solvers.qp(P=P,q=q,G=G,h=h)\n",
        "        x = solver['x']\n",
        "        self.alphas = np.squeeze(np.array(x))\n",
        "\n",
        "        #Retrieve the support vectors\n",
        "        self.support_vectors_indices = np.squeeze(np.abs(np.array(x))) > self.tol_support_vectors\n",
        "        self.alphas = self.alphas[self.support_vectors_indices]\n",
        "        self.support_vectors = self.X_train[self.support_vectors_indices]\n",
        "\n",
        "        print(len(self.support_vectors), \"support vectors out of\",len(self.X_train), \"training samples\")\n",
        "\n",
        "        return self.alphas\n",
        "\n",
        "\n",
        "    def predict(self, X):\n",
        "        \"\"\"\n",
        "        X: Is the array of shape (n_samples, n_features)\\\\\n",
        "        Return: float array (n_samples,)\n",
        "        \"\"\"\n",
        "        K = self.kernel.gram(X, self.support_vectors)\n",
        "        y = np.dot(K, self.alphas)\n",
        "        return y\n",
        "\n",
        "    def predict_classes(self, X, threshold=0):\n",
        "        \"\"\"\n",
        "        X: Is array of the shape (n_samples, n_features)\\\\\n",
        "        Return: 0 and 1 array (n_samples,)\n",
        "        \"\"\"\n",
        "        K = self.kernel.gram(X, self.support_vectors)\n",
        "        y = np.dot(K, self.alphas)\n",
        "        return np.where(y > threshold, 1, -1)"
      ]
    },
    {
      "cell_type": "markdown",
      "id": "e02adab6",
      "metadata": {
        "id": "e02adab6"
      },
      "source": [
        "* Since the data are long sequences and have different length based on the row\n",
        "in the dataframe, let cut them into small fragment of length $k$ and allow maximum\n",
        "mismatching of $m$.\n",
        "then these subsequences will be called \"kmer\".\n",
        "\n",
        "* The following cell contains the functions that will be used to create kmer-set\n",
        "that will help to get vocabular or set of unique kmers that will help\n",
        "to build small matrix, others for detecting the neighbors of kmers up to mismatch.\n",
        "\n",
        "* Also others will help to input dataset, length of kmer and maximum allowed  mismatch and returns the set of kmer and its neighbors\n"
      ]
    },
    {
      "cell_type": "code",
      "execution_count": null,
      "id": "6aa259d8",
      "metadata": {
        "id": "6aa259d8"
      },
      "outputs": [],
      "source": [
        "def create_kmer_set(X, k, kmer_set={}):\n",
        "    \"\"\"\n",
        "    Return a set of all kmers appearing in the dataset.\n",
        "    \"\"\"\n",
        "    len_seq = len(X[0])\n",
        "    idx = len(kmer_set)\n",
        "    for i in range(len(X)):\n",
        "        x = X[i]\n",
        "        kmer_x = [x[i:i + k] for i in range(len_seq - k + 1)]\n",
        "        for kmer in kmer_x:\n",
        "            if kmer not in kmer_set:\n",
        "                kmer_set[kmer] = idx\n",
        "                idx += 1\n",
        "    return kmer_set\n",
        "\n",
        "\n",
        "def m_neighbours(kmer, m, recurs=0):\n",
        "    \"\"\"\n",
        "    This function will return a list of neighbours kmers (up to m mismatches).\n",
        "    \"\"\"\n",
        "    if m == 0:\n",
        "        return [kmer[:-1]]\n",
        "\n",
        "    letters = ['G', 'T', 'A', 'C']\n",
        "    k = len(kmer[:-1])\n",
        "    neighbours = m_neighbours(kmer[:-1], m - 1, recurs + 1)\n",
        "\n",
        "    for j in range(len(neighbours)):\n",
        "        neighbour = neighbours[j]\n",
        "        for i in range(recurs, k - m + 1):\n",
        "            for l in letters:\n",
        "                neighbours.append(neighbour[:i] + l + neighbour[i + 1:])\n",
        "    return list(set(neighbours))\n",
        "\n",
        "\n",
        "def get_neighbours(kmer_set, m):\n",
        "    \"\"\"\n",
        "    Find the neighbours given a set of kmers.\n",
        "    \"\"\"\n",
        "    kmers_list = list(kmer_set.keys())\n",
        "    kmers = np.array(list(map(list, kmers_list)))\n",
        "\n",
        "    num_kmers, kmax = kmers.shape\n",
        "    neighbours = {}\n",
        "    for i in range(num_kmers):\n",
        "        neighbours[kmers_list[i]] = []\n",
        "\n",
        "    for i in tqdm(range(num_kmers)):\n",
        "        kmer = kmers_list[i]\n",
        "        kmer_neighbours = m_neighbours(kmer[:-1], m)\n",
        "        for neighbour in kmer_neighbours:\n",
        "            if neighbour in kmer_set:\n",
        "                neighbours[kmer].append(neighbour)\n",
        "    return neighbours\n",
        "\n",
        "\n",
        "def load_neighbors(dataset, k, m):\n",
        "    \"\"\"\n",
        "    dataset: is the sequence to be cutted into kmer\\\\\n",
        "    k: is the length of the kmers\n",
        "    m: is the number of possible (maximum aloowed) mismatches\n",
        "    \"\"\"\n",
        "    file_name = 'neighbours_'+str(dataset)+'_'+str(k)+'_'+str(m)+'.p'\n",
        "    # Load\n",
        "    neighbour, kmer_set = pickle.load(open(file_name, 'rb'))\n",
        "    print('Neighbors correctly loaded!')\n",
        "    return neighbour, kmer_set\n",
        "\n",
        "\n",
        "def load_or_compute_neighbors(dataset,k,m):\n",
        "    \"\"\"\n",
        "    dataset: data to be used(sequences examples)\n",
        "    k: Is the length of the kmers\n",
        "    m: Is the number of possible(maximum) mismatches allowed.\n",
        "    \"\"\"\n",
        "    neighbours, kmer_set = None, None\n",
        "    try:\n",
        "        #Load the neighbors\n",
        "        neighbours, kmer_set = load_neighbors(dataset, k, m)\n",
        "\n",
        "    except:\n",
        "        print('No file found, creating kmers neighbors')\n",
        "        #Let Compute the neighbors\n",
        "        file_name = 'neighbours_'+str(dataset)+'_'+str(k)+'_'+str(m)+'.p'\n",
        "        # Please remember to put the address or location of your CSV file here in the following lines.\n",
        "        if dataset==0:\n",
        "            X_train = pd.read_csv(\"/content/Xtr.csv\", sep=\",\", index_col=0).values\n",
        "            X_test = pd.read_csv(\"/content/Xte.csv\", sep=\",\", index_col=0).values\n",
        "            kmer_set = create_kmer_set(X_train[:,0], k, kmer_set={})\n",
        "            kmer_set = create_kmer_set(X_test[:,0], k, kmer_set)\n",
        "            neighbours = get_neighbours(kmer_set, m)\n",
        "            pickle.dump([neighbours, kmer_set], open(file_name, 'wb'))\n",
        "\n",
        "    return neighbours, kmer_set"
      ]
    },
    {
      "cell_type": "markdown",
      "id": "2e5dccbc",
      "metadata": {
        "id": "2e5dccbc"
      },
      "source": [
        "# Let's fix the hyperparameters to be used"
      ]
    },
    {
      "cell_type": "code",
      "execution_count": null,
      "id": "bc0365d7",
      "metadata": {
        "id": "bc0365d7"
      },
      "outputs": [],
      "source": [
        "C = 1.0\n",
        "k = 12\n",
        "m = 2\n",
        "list_k = [5,8,10,12,13,15]\n",
        "list_m = [1,1,1,2,2,3]\n"
      ]
    },
    {
      "cell_type": "markdown",
      "id": "c32b1e23",
      "metadata": {
        "id": "c32b1e23"
      },
      "source": [
        "#  SVM is the machine learning technique we used here:\n",
        "\n",
        "# To support the decision rule of SVM in prediction based on the hyperplanes, let's modify the $y_{train}$  value.\n",
        "\n",
        "$w$: is the weights matrix, $X_i$: is the input example, $b$: is the bias, and $y_i$: is the correct label correspond to $X_i$.\n",
        "\n",
        "$y_i\\in \\{-1,1\\}$\n",
        "\n",
        "First class: $y_i(w^T X_i+b)\\ge 1$ and the second is: $y_i(w^TX_i+b)\\le -1$, while the hyperplane that separates two classes is: $(w^T X_i+b)= 0$\n"
      ]
    },
    {
      "cell_type": "code",
      "execution_count": null,
      "id": "d2a5bb27",
      "metadata": {
        "id": "d2a5bb27"
      },
      "outputs": [],
      "source": [
        "\n",
        "Y_train = np.where(Y_train == 0, -1, 1)"
      ]
    },
    {
      "cell_type": "markdown",
      "id": "57016ad0",
      "metadata": {
        "id": "57016ad0"
      },
      "source": [
        "# Creation of the neighbors, set of kmers, and mentioning of the kernel to use."
      ]
    },
    {
      "cell_type": "code",
      "execution_count": null,
      "id": "2e091b0e",
      "metadata": {
        "colab": {
          "base_uri": "https://localhost:8080/"
        },
        "id": "2e091b0e",
        "outputId": "abc33f94-0fd5-49e5-c137-f645804b0eaf"
      },
      "outputs": [
        {
          "output_type": "stream",
          "name": "stdout",
          "text": [
            "No file found, creating kmers neighbors\n"
          ]
        },
        {
          "output_type": "stream",
          "name": "stderr",
          "text": [
            "100%|██████████| 712790/712790 [06:47<00:00, 1747.07it/s]\n"
          ]
        }
      ],
      "source": [
        "kernel='mismatch'\n",
        "\n",
        "neighbours, kmer_set = load_or_compute_neighbors(0,k,m)"
      ]
    },
    {
      "cell_type": "markdown",
      "id": "c6588e21",
      "metadata": {
        "id": "c6588e21"
      },
      "source": [
        "# We need to shuffle the data to make model adapt the new data due to how it will be arranged, this increase the model performace."
      ]
    },
    {
      "cell_type": "code",
      "execution_count": null,
      "id": "2410f745",
      "metadata": {
        "id": "2410f745"
      },
      "outputs": [],
      "source": [
        "shuffle=np.random.shuffle\n",
        "shuffle = True  #Shuffle the data\n"
      ]
    },
    {
      "cell_type": "code",
      "execution_count": null,
      "id": "84283cef",
      "metadata": {
        "colab": {
          "base_uri": "https://localhost:8080/",
          "height": 221
        },
        "id": "84283cef",
        "outputId": "2c6fa0cc-a5f4-4acf-906c-835cad13fe94"
      },
      "outputs": [
        {
          "output_type": "error",
          "ename": "IndexError",
          "evalue": "ignored",
          "traceback": [
            "\u001b[0;31m---------------------------------------------------------------------------\u001b[0m",
            "\u001b[0;31mIndexError\u001b[0m                                Traceback (most recent call last)",
            "\u001b[0;32m<ipython-input-63-b922a71687b8>\u001b[0m in \u001b[0;36m<module>\u001b[0;34m()\u001b[0m\n\u001b[1;32m      1\u001b[0m \u001b[0mshuffling\u001b[0m \u001b[0;34m=\u001b[0m \u001b[0mnp\u001b[0m\u001b[0;34m.\u001b[0m\u001b[0mrandom\u001b[0m\u001b[0;34m.\u001b[0m\u001b[0mpermutation\u001b[0m\u001b[0;34m(\u001b[0m\u001b[0mlen\u001b[0m\u001b[0;34m(\u001b[0m\u001b[0mX_train\u001b[0m\u001b[0;34m)\u001b[0m\u001b[0;34m)\u001b[0m\u001b[0;34m\u001b[0m\u001b[0;34m\u001b[0m\u001b[0m\n\u001b[0;32m----> 2\u001b[0;31m \u001b[0mX_train\u001b[0m \u001b[0;34m=\u001b[0m \u001b[0mX_train\u001b[0m\u001b[0;34m[\u001b[0m\u001b[0mshuffling\u001b[0m\u001b[0;34m]\u001b[0m\u001b[0;34m[\u001b[0m\u001b[0;34m:\u001b[0m\u001b[0;34m,\u001b[0m\u001b[0;36m0\u001b[0m\u001b[0;34m]\u001b[0m\u001b[0;34m\u001b[0m\u001b[0;34m\u001b[0m\u001b[0m\n\u001b[0m\u001b[1;32m      3\u001b[0m \u001b[0mY_train\u001b[0m \u001b[0;34m=\u001b[0m \u001b[0mY_train\u001b[0m\u001b[0;34m[\u001b[0m\u001b[0mshuffling\u001b[0m\u001b[0;34m]\u001b[0m\u001b[0;34m\u001b[0m\u001b[0;34m\u001b[0m\u001b[0m\n",
            "\u001b[0;31mIndexError\u001b[0m: too many indices for array: array is 1-dimensional, but 2 were indexed"
          ]
        }
      ],
      "source": [
        "shuffling = np.random.permutation(len(X_train))\n",
        "X_train = X_train[shuffling][:,0]\n",
        "Y_train = Y_train[shuffling]"
      ]
    },
    {
      "cell_type": "markdown",
      "id": "a5885b53",
      "metadata": {
        "id": "a5885b53"
      },
      "source": [
        "# Prepare the test data matrices to be used by putting it into the right format."
      ]
    },
    {
      "cell_type": "code",
      "execution_count": null,
      "id": "1e1a84c2",
      "metadata": {
        "id": "1e1a84c2"
      },
      "outputs": [],
      "source": [
        "\n",
        "X_test = X_test[:,0]"
      ]
    },
    {
      "cell_type": "markdown",
      "id": "2471aed2",
      "metadata": {
        "id": "2471aed2"
      },
      "source": [
        "# Setting the hyperparameter and kernel to use:\n",
        "\n",
        "$C=1.0$ and kernel is: Mismatching kernel."
      ]
    },
    {
      "cell_type": "code",
      "execution_count": null,
      "id": "d5b0e8bf",
      "metadata": {
        "colab": {
          "base_uri": "https://localhost:8080/"
        },
        "id": "d5b0e8bf",
        "outputId": "f1f8c548-9c09-46a3-da31-bc5ac79aab1f"
      },
      "outputs": [
        {
          "output_type": "stream",
          "name": "stdout",
          "text": [
            "The value of C used is: 1.0 and kernel is: mismatch\n",
            "Let's apply SVM on dataset\n"
          ]
        }
      ],
      "source": [
        "print(\"The value of C used is:\", C,'and kernel is:',kernel)\n",
        "print(\"Let's apply SVM on dataset\")\n",
        "\n",
        "\n",
        "\n",
        "svm = SVM(kernel=MismatchKernel(k=k, m=m, neighbours=neighbours, kmer_set=kmer_set,normalize=True), C=C)\n",
        "\n"
      ]
    },
    {
      "cell_type": "markdown",
      "id": "6123adb3",
      "metadata": {
        "id": "6123adb3"
      },
      "source": [
        "# Fit the data to the model"
      ]
    },
    {
      "cell_type": "code",
      "execution_count": null,
      "id": "7338c400",
      "metadata": {
        "colab": {
          "base_uri": "https://localhost:8080/",
          "height": 405
        },
        "id": "7338c400",
        "outputId": "7c702cd6-10b1-4423-d359-de7b9e48465c"
      },
      "outputs": [
        {
          "output_type": "stream",
          "name": "stdout",
          "text": [
            "Computing the kernel Start\n"
          ]
        },
        {
          "output_type": "error",
          "ename": "ValueError",
          "evalue": "ignored",
          "traceback": [
            "\u001b[0;31m---------------------------------------------------------------------------\u001b[0m",
            "\u001b[0;31mValueError\u001b[0m                                Traceback (most recent call last)",
            "\u001b[0;32m<ipython-input-58-272ec78abeea>\u001b[0m in \u001b[0;36m<module>\u001b[0;34m()\u001b[0m\n\u001b[0;32m----> 1\u001b[0;31m \u001b[0msvm\u001b[0m\u001b[0;34m.\u001b[0m\u001b[0mfit\u001b[0m\u001b[0;34m(\u001b[0m\u001b[0mX_train\u001b[0m\u001b[0;34m,\u001b[0m \u001b[0mY_train\u001b[0m\u001b[0;34m)\u001b[0m\u001b[0;34m\u001b[0m\u001b[0;34m\u001b[0m\u001b[0m\n\u001b[0m\u001b[1;32m      2\u001b[0m \u001b[0mprediction\u001b[0m \u001b[0;34m=\u001b[0m \u001b[0msvm\u001b[0m\u001b[0;34m.\u001b[0m\u001b[0mpredict_classes\u001b[0m\u001b[0;34m(\u001b[0m\u001b[0mX_test\u001b[0m\u001b[0;34m)\u001b[0m\u001b[0;34m\u001b[0m\u001b[0;34m\u001b[0m\u001b[0m\n\u001b[1;32m      3\u001b[0m \u001b[0mpred\u001b[0m \u001b[0;34m=\u001b[0m \u001b[0mprediction\u001b[0m\u001b[0;34m.\u001b[0m\u001b[0msqueeze\u001b[0m\u001b[0;34m(\u001b[0m\u001b[0;34m)\u001b[0m\u001b[0;34m\u001b[0m\u001b[0;34m\u001b[0m\u001b[0m\n",
            "\u001b[0;32m<ipython-input-48-b2ec6d563e78>\u001b[0m in \u001b[0;36mfit\u001b[0;34m(self, X, y)\u001b[0m\n\u001b[1;32m     27\u001b[0m         \u001b[0mn_samples\u001b[0m \u001b[0;34m=\u001b[0m \u001b[0mX\u001b[0m\u001b[0;34m.\u001b[0m\u001b[0mshape\u001b[0m\u001b[0;34m[\u001b[0m\u001b[0;36m0\u001b[0m\u001b[0;34m]\u001b[0m\u001b[0;34m\u001b[0m\u001b[0;34m\u001b[0m\u001b[0m\n\u001b[1;32m     28\u001b[0m         \u001b[0mprint\u001b[0m\u001b[0;34m(\u001b[0m\u001b[0;34m\"Computing the kernel Start\"\u001b[0m\u001b[0;34m)\u001b[0m\u001b[0;34m\u001b[0m\u001b[0;34m\u001b[0m\u001b[0m\n\u001b[0;32m---> 29\u001b[0;31m         \u001b[0mself\u001b[0m\u001b[0;34m.\u001b[0m\u001b[0mX_train_gram\u001b[0m \u001b[0;34m=\u001b[0m \u001b[0mself\u001b[0m\u001b[0;34m.\u001b[0m\u001b[0mkernel\u001b[0m\u001b[0;34m.\u001b[0m\u001b[0mgram\u001b[0m\u001b[0;34m(\u001b[0m\u001b[0mX\u001b[0m\u001b[0;34m)\u001b[0m\u001b[0;34m\u001b[0m\u001b[0;34m\u001b[0m\u001b[0m\n\u001b[0m\u001b[1;32m     30\u001b[0m         \u001b[0mprint\u001b[0m\u001b[0;34m(\u001b[0m\u001b[0;34m\"Computation is done!\"\u001b[0m\u001b[0;34m)\u001b[0m\u001b[0;34m\u001b[0m\u001b[0;34m\u001b[0m\u001b[0m\n\u001b[1;32m     31\u001b[0m \u001b[0;34m\u001b[0m\u001b[0m\n",
            "\u001b[0;32m<ipython-input-47-ba8395178a43>\u001b[0m in \u001b[0;36mgram\u001b[0;34m(self, X1, X2)\u001b[0m\n\u001b[1;32m     79\u001b[0m \u001b[0;34m\u001b[0m\u001b[0m\n\u001b[1;32m     80\u001b[0m         \u001b[0mX1_emb\u001b[0m \u001b[0;34m=\u001b[0m \u001b[0mself\u001b[0m\u001b[0;34m.\u001b[0m\u001b[0mneighbour_embed_data\u001b[0m\u001b[0;34m(\u001b[0m\u001b[0mX1\u001b[0m\u001b[0;34m)\u001b[0m\u001b[0;34m\u001b[0m\u001b[0;34m\u001b[0m\u001b[0m\n\u001b[0;32m---> 81\u001b[0;31m         \u001b[0mX1_sm\u001b[0m \u001b[0;34m=\u001b[0m \u001b[0mself\u001b[0m\u001b[0;34m.\u001b[0m\u001b[0mto_sparse\u001b[0m\u001b[0;34m(\u001b[0m\u001b[0mX1_emb\u001b[0m\u001b[0;34m)\u001b[0m\u001b[0;34m\u001b[0m\u001b[0;34m\u001b[0m\u001b[0m\n\u001b[0m\u001b[1;32m     82\u001b[0m \u001b[0;34m\u001b[0m\u001b[0m\n\u001b[1;32m     83\u001b[0m         \u001b[0;32mif\u001b[0m \u001b[0mX2\u001b[0m \u001b[0;32mis\u001b[0m \u001b[0;32mNone\u001b[0m\u001b[0;34m:\u001b[0m\u001b[0;34m\u001b[0m\u001b[0;34m\u001b[0m\u001b[0m\n",
            "\u001b[0;32m<ipython-input-47-ba8395178a43>\u001b[0m in \u001b[0;36mto_sparse\u001b[0;34m(self, X_emb)\u001b[0m\n\u001b[1;32m     56\u001b[0m             \u001b[0mrow\u001b[0m \u001b[0;34m+=\u001b[0m \u001b[0mlist\u001b[0m\u001b[0;34m(\u001b[0m\u001b[0mx\u001b[0m\u001b[0;34m.\u001b[0m\u001b[0mkeys\u001b[0m\u001b[0;34m(\u001b[0m\u001b[0;34m)\u001b[0m\u001b[0;34m)\u001b[0m\u001b[0;34m\u001b[0m\u001b[0;34m\u001b[0m\u001b[0m\n\u001b[1;32m     57\u001b[0m             \u001b[0mcol\u001b[0m \u001b[0;34m+=\u001b[0m \u001b[0;34m[\u001b[0m\u001b[0mi\u001b[0m \u001b[0;32mfor\u001b[0m \u001b[0mj\u001b[0m \u001b[0;32min\u001b[0m \u001b[0mrange\u001b[0m\u001b[0;34m(\u001b[0m\u001b[0mlen\u001b[0m\u001b[0;34m(\u001b[0m\u001b[0mx\u001b[0m\u001b[0;34m)\u001b[0m\u001b[0;34m)\u001b[0m\u001b[0;34m]\u001b[0m\u001b[0;34m\u001b[0m\u001b[0;34m\u001b[0m\u001b[0m\n\u001b[0;32m---> 58\u001b[0;31m         \u001b[0mX_sm\u001b[0m \u001b[0;34m=\u001b[0m \u001b[0msparse\u001b[0m\u001b[0;34m.\u001b[0m\u001b[0mcoo_matrix\u001b[0m\u001b[0;34m(\u001b[0m\u001b[0;34m(\u001b[0m\u001b[0mdata\u001b[0m\u001b[0;34m,\u001b[0m \u001b[0;34m(\u001b[0m\u001b[0mrow\u001b[0m\u001b[0;34m,\u001b[0m \u001b[0mcol\u001b[0m\u001b[0;34m)\u001b[0m\u001b[0;34m)\u001b[0m\u001b[0;34m)\u001b[0m\u001b[0;34m\u001b[0m\u001b[0;34m\u001b[0m\u001b[0m\n\u001b[0m\u001b[1;32m     59\u001b[0m         \u001b[0;32mreturn\u001b[0m \u001b[0mX_sm\u001b[0m\u001b[0;34m\u001b[0m\u001b[0;34m\u001b[0m\u001b[0m\n\u001b[1;32m     60\u001b[0m \u001b[0;34m\u001b[0m\u001b[0m\n",
            "\u001b[0;32m/usr/local/lib/python3.7/dist-packages/scipy/sparse/coo.py\u001b[0m in \u001b[0;36m__init__\u001b[0;34m(self, arg1, shape, dtype, copy)\u001b[0m\n\u001b[1;32m    146\u001b[0m                 \u001b[0;32mif\u001b[0m \u001b[0mshape\u001b[0m \u001b[0;32mis\u001b[0m \u001b[0;32mNone\u001b[0m\u001b[0;34m:\u001b[0m\u001b[0;34m\u001b[0m\u001b[0;34m\u001b[0m\u001b[0m\n\u001b[1;32m    147\u001b[0m                     \u001b[0;32mif\u001b[0m \u001b[0mlen\u001b[0m\u001b[0;34m(\u001b[0m\u001b[0mrow\u001b[0m\u001b[0;34m)\u001b[0m \u001b[0;34m==\u001b[0m \u001b[0;36m0\u001b[0m \u001b[0;32mor\u001b[0m \u001b[0mlen\u001b[0m\u001b[0;34m(\u001b[0m\u001b[0mcol\u001b[0m\u001b[0;34m)\u001b[0m \u001b[0;34m==\u001b[0m \u001b[0;36m0\u001b[0m\u001b[0;34m:\u001b[0m\u001b[0;34m\u001b[0m\u001b[0;34m\u001b[0m\u001b[0m\n\u001b[0;32m--> 148\u001b[0;31m                         raise ValueError('cannot infer dimensions from zero '\n\u001b[0m\u001b[1;32m    149\u001b[0m                                          'sized index arrays')\n\u001b[1;32m    150\u001b[0m                     \u001b[0mM\u001b[0m \u001b[0;34m=\u001b[0m \u001b[0moperator\u001b[0m\u001b[0;34m.\u001b[0m\u001b[0mindex\u001b[0m\u001b[0;34m(\u001b[0m\u001b[0mnp\u001b[0m\u001b[0;34m.\u001b[0m\u001b[0mmax\u001b[0m\u001b[0;34m(\u001b[0m\u001b[0mrow\u001b[0m\u001b[0;34m)\u001b[0m\u001b[0;34m)\u001b[0m \u001b[0;34m+\u001b[0m \u001b[0;36m1\u001b[0m\u001b[0;34m\u001b[0m\u001b[0;34m\u001b[0m\u001b[0m\n",
            "\u001b[0;31mValueError\u001b[0m: cannot infer dimensions from zero sized index arrays"
          ]
        }
      ],
      "source": [
        "svm.fit(X_train, Y_train)\n",
        "prediction = svm.predict_classes(X_test)\n",
        "pred = prediction.squeeze()\n"
      ]
    },
    {
      "cell_type": "markdown",
      "id": "b36bf9a3",
      "metadata": {
        "id": "b36bf9a3"
      },
      "source": [
        "# The predicted value"
      ]
    },
    {
      "cell_type": "code",
      "execution_count": null,
      "id": "247563af",
      "metadata": {
        "colab": {
          "base_uri": "https://localhost:8080/",
          "height": 168
        },
        "id": "247563af",
        "outputId": "1a4da606-da2a-4ebb-f44e-985a3fb630cf"
      },
      "outputs": [
        {
          "output_type": "error",
          "ename": "NameError",
          "evalue": "ignored",
          "traceback": [
            "\u001b[0;31m---------------------------------------------------------------------------\u001b[0m",
            "\u001b[0;31mNameError\u001b[0m                                 Traceback (most recent call last)",
            "\u001b[0;32m<ipython-input-59-008509a38355>\u001b[0m in \u001b[0;36m<module>\u001b[0;34m()\u001b[0m\n\u001b[0;32m----> 1\u001b[0;31m \u001b[0mprint\u001b[0m\u001b[0;34m(\u001b[0m\u001b[0mpred\u001b[0m\u001b[0;34m)\u001b[0m\u001b[0;34m\u001b[0m\u001b[0;34m\u001b[0m\u001b[0m\n\u001b[0m",
            "\u001b[0;31mNameError\u001b[0m: name 'pred' is not defined"
          ]
        }
      ],
      "source": [
        "print(pred)"
      ]
    },
    {
      "cell_type": "markdown",
      "id": "c8587d11",
      "metadata": {
        "id": "c8587d11"
      },
      "source": [
        "# Let's bring back the label in terms of zero and one in order to compare it with the correct label used in the dataset."
      ]
    },
    {
      "cell_type": "code",
      "execution_count": null,
      "id": "8cd2e06c",
      "metadata": {
        "id": "8cd2e06c",
        "outputId": "3659b33b-8ccb-4215-ae6b-c1465f777e20"
      },
      "outputs": [
        {
          "name": "stdout",
          "output_type": "stream",
          "text": [
            "The predicted labels are:\n",
            "************************\n",
            "\n",
            "[0 1 1 0 1 1 1 0 1 1 0 0 0 1 0 1 1 1 1 0 1 1 1 1 0 0 0 1 0 1 1 1 0 1 0 1 0\n",
            " 1 1 0 1 1 0 0 1 0 1 0 1 1 1 0 0 0 0 1 1 1 1 0 1 0 1 0 0 1 1 0 0 1 1 1 1 1\n",
            " 1 0 0 1 1 0 0 1 0 0 0 1 1 0 1 1 0 1 0 0 0 1 0 1 1 1 1 1 1 1 0 0 0 0 0 0 0\n",
            " 0 1 0 0 0 1 1 0 1 0 0 0 0 1 0 0 1 0 1 0 0 0 1 0 0 1 1 0 1 1 0 0 1 0 0 1 0\n",
            " 1 1 0 1 1 0 1 0 1 1 0 1 1 1 0 0 1 0 1 0 0 1 0 1 0 0 0 1 0 1 0 1 1 0 0 1 1\n",
            " 0 1 0 0 0 0 1 1 0 0 1 1 0 1 0 0 0 0 0 0 1 1 0 1 1 0 0 1 1 1 1 1 1 0 0 0 0\n",
            " 1 1 0 1 1 1 0 0 1 0 0 0 0 0 0 1 0 1 1 0 0 0 0 1 0 1 1 1 0 1 1 1 1 0 1 1 1\n",
            " 1 0 1 1 0 0 1 0 1 1 0 0 0 0 1 1 1 0 0 0 0 0 1 0 0 1 1 0 1 0 1 0 1 0 0 1 1\n",
            " 1 1 1 1 0 0 0 0 1 1 0 1 0 1 0 1 0 1 1 1 0 0 0 1 0 1 1 0 1 1 1 0 0 0 1 0 1\n",
            " 1 1 1 0 1 1 0 0 1 0 1 0 1 1 1 1 1 1 1 0 0 0 0 0 0 1 1 1 1 0 1 1 1 1 1 1 0\n",
            " 0 0 1 1 1 0 0 0 0 0 1 0 1 1 1 0 0 0 0 0 1 0 0 0 1 0 0 0 0 0 1 1 0 1 1 1 1\n",
            " 1 1 0 1 1 1 0 1 0 0 0 1 1 0 0 1 0 0 1 1 0 1 1 1 0 1 1 0 0 0 1 1 1 1 0 1 1\n",
            " 1 1 0 1 1 1 1 0 1 0 0 1 1 0 1 1 1 0 0 1 1 0 0 0 0 0 0 0 0 1 0 0 0 0 1 0 1\n",
            " 1 0 0 0 0 0 1 1 1 1 0 0 1 1 0 1 1 1 1 0 0 0 1 0 1 1 1 1 1 1 1 1 1 1 1 1 1\n",
            " 1 1 1 1 0 0 1 0 1 1 0 1 1 0 0 0 0 1 0 0 0 1 1 1 0 1 0 0 0 1 0 1 1 1 0 1 0\n",
            " 0 0 0 0 1 1 0 0 1 1 1 0 0 0 1 1 1 0 0 1 0 1 1 0 1 0 0 1 0 0 0 1 0 1 0 1 0\n",
            " 0 1 1 0 0 1 0 1 1 1 1 1 0 1 0 1 0 1 1 0 1 0 0 0 1 1 0 1 1 1 0 1 1 1 1 0 0\n",
            " 1 1 0 0 1 0 1 1 1 1 0 1 0 1 0 1 0 1 0 0 0 0 0 1 0 1 0 1 1 0 1 0 1 1 0 0 1\n",
            " 1 1 0 0 0 0 1 0 1 1 0 1 0 1 0 1 0 0 1 1 1 0 0 1 1 1 1 0 0 0 0 0 1 0 0 1 0\n",
            " 1 0 1 0 1 1 1 1 1 1 0 0 1 1 0 1 0 1 0 0 0 0 1 0 0 1 0 1 1 1 0 1 0 0 0 0 0\n",
            " 1 0 0 1 0 1 1 1 1 0 1 0 0 1 0 0 1 0 1 0 1 1 0 0 1 1 0 1 0 0 1 0 0 0 0 1 0\n",
            " 0 0 0 0 0 0 1 1 0 0 1 0 1 1 0 1 1 1 1 0 0 0 0 0 0 1 0 1 0 1 1 0 1 1 0 0 0\n",
            " 0 0 0 0 1 0 1 0 1 0 1 0 0 1 1 0 1 1 0 1 1 1 1 1 0 1 0 1 1 0 1 0 1 1 1 1 0\n",
            " 1 0 1 0 0 0 1 1 1 1 0 0 1 1 0 0 1 0 1 1 0 1 0 1 0 1 0 0 0 0 0 1 0 0 1 0 1\n",
            " 0 0 1 1 1 0 1 1 1 0 0 0 1 0 1 0 1 0 0 1 0 0 1 0 1 1 1 0 0 0 1 1 1 1 0 0 1\n",
            " 0 1 1 0 0 1 0 0 1 0 1 0 1 0 0 0 0 1 0 1 0 0 1 0 0 1 0 0 1 1 1 1 1 1 0 0 1\n",
            " 1 0 0 1 1 1 1 0 0 1 0 1 0 1 0 0 0 1 1 0 0 0 0 1 0 0 1 0 1 1 1 0 1 0 1 0 0\n",
            " 0]\n"
          ]
        }
      ],
      "source": [
        "pred = np.where(pred == -1, 0, 1)\n",
        "print('The predicted labels are:')\n",
        "print('************************\\n')\n",
        "print(pred)"
      ]
    },
    {
      "cell_type": "markdown",
      "id": "e7a734f3",
      "metadata": {
        "id": "e7a734f3"
      },
      "source": [
        "# Creation of the DataFrame for saving the predicted results"
      ]
    },
    {
      "cell_type": "code",
      "execution_count": null,
      "id": "5d1fb9f8",
      "metadata": {
        "id": "5d1fb9f8"
      },
      "outputs": [],
      "source": [
        "pred_df = pd.DataFrame()\n",
        "pred_df['Covid'] = pred\n",
        "pred_df.index.name = 'Id'\n",
        "pred_df.index += 1\n",
        "pred_df.to_csv('CovID-19.csv', sep=',', header=True)"
      ]
    },
    {
      "cell_type": "markdown",
      "id": "90e8b094",
      "metadata": {
        "id": "90e8b094"
      },
      "source": [
        "# Read the saved csv file that was named  CovID-19."
      ]
    },
    {
      "cell_type": "code",
      "execution_count": null,
      "id": "20b68307",
      "metadata": {
        "id": "20b68307",
        "outputId": "ed6c2588-18c0-4cf1-9686-94024d7fe0ac"
      },
      "outputs": [
        {
          "data": {
            "text/html": [
              "<div>\n",
              "<style scoped>\n",
              "    .dataframe tbody tr th:only-of-type {\n",
              "        vertical-align: middle;\n",
              "    }\n",
              "\n",
              "    .dataframe tbody tr th {\n",
              "        vertical-align: top;\n",
              "    }\n",
              "\n",
              "    .dataframe thead th {\n",
              "        text-align: right;\n",
              "    }\n",
              "</style>\n",
              "<table border=\"1\" class=\"dataframe\">\n",
              "  <thead>\n",
              "    <tr style=\"text-align: right;\">\n",
              "      <th></th>\n",
              "      <th>Id</th>\n",
              "      <th>Covid</th>\n",
              "    </tr>\n",
              "  </thead>\n",
              "  <tbody>\n",
              "    <tr>\n",
              "      <th>0</th>\n",
              "      <td>1</td>\n",
              "      <td>0</td>\n",
              "    </tr>\n",
              "    <tr>\n",
              "      <th>1</th>\n",
              "      <td>2</td>\n",
              "      <td>1</td>\n",
              "    </tr>\n",
              "    <tr>\n",
              "      <th>2</th>\n",
              "      <td>3</td>\n",
              "      <td>1</td>\n",
              "    </tr>\n",
              "    <tr>\n",
              "      <th>3</th>\n",
              "      <td>4</td>\n",
              "      <td>0</td>\n",
              "    </tr>\n",
              "    <tr>\n",
              "      <th>4</th>\n",
              "      <td>5</td>\n",
              "      <td>1</td>\n",
              "    </tr>\n",
              "    <tr>\n",
              "      <th>5</th>\n",
              "      <td>6</td>\n",
              "      <td>1</td>\n",
              "    </tr>\n",
              "    <tr>\n",
              "      <th>6</th>\n",
              "      <td>7</td>\n",
              "      <td>1</td>\n",
              "    </tr>\n",
              "    <tr>\n",
              "      <th>7</th>\n",
              "      <td>8</td>\n",
              "      <td>0</td>\n",
              "    </tr>\n",
              "    <tr>\n",
              "      <th>8</th>\n",
              "      <td>9</td>\n",
              "      <td>1</td>\n",
              "    </tr>\n",
              "    <tr>\n",
              "      <th>9</th>\n",
              "      <td>10</td>\n",
              "      <td>1</td>\n",
              "    </tr>\n",
              "    <tr>\n",
              "      <th>10</th>\n",
              "      <td>11</td>\n",
              "      <td>0</td>\n",
              "    </tr>\n",
              "    <tr>\n",
              "      <th>11</th>\n",
              "      <td>12</td>\n",
              "      <td>0</td>\n",
              "    </tr>\n",
              "    <tr>\n",
              "      <th>12</th>\n",
              "      <td>13</td>\n",
              "      <td>0</td>\n",
              "    </tr>\n",
              "    <tr>\n",
              "      <th>13</th>\n",
              "      <td>14</td>\n",
              "      <td>1</td>\n",
              "    </tr>\n",
              "    <tr>\n",
              "      <th>14</th>\n",
              "      <td>15</td>\n",
              "      <td>0</td>\n",
              "    </tr>\n",
              "    <tr>\n",
              "      <th>15</th>\n",
              "      <td>16</td>\n",
              "      <td>1</td>\n",
              "    </tr>\n",
              "    <tr>\n",
              "      <th>16</th>\n",
              "      <td>17</td>\n",
              "      <td>1</td>\n",
              "    </tr>\n",
              "    <tr>\n",
              "      <th>17</th>\n",
              "      <td>18</td>\n",
              "      <td>1</td>\n",
              "    </tr>\n",
              "    <tr>\n",
              "      <th>18</th>\n",
              "      <td>19</td>\n",
              "      <td>1</td>\n",
              "    </tr>\n",
              "    <tr>\n",
              "      <th>19</th>\n",
              "      <td>20</td>\n",
              "      <td>0</td>\n",
              "    </tr>\n",
              "    <tr>\n",
              "      <th>20</th>\n",
              "      <td>21</td>\n",
              "      <td>1</td>\n",
              "    </tr>\n",
              "    <tr>\n",
              "      <th>21</th>\n",
              "      <td>22</td>\n",
              "      <td>1</td>\n",
              "    </tr>\n",
              "    <tr>\n",
              "      <th>22</th>\n",
              "      <td>23</td>\n",
              "      <td>1</td>\n",
              "    </tr>\n",
              "    <tr>\n",
              "      <th>23</th>\n",
              "      <td>24</td>\n",
              "      <td>1</td>\n",
              "    </tr>\n",
              "    <tr>\n",
              "      <th>24</th>\n",
              "      <td>25</td>\n",
              "      <td>0</td>\n",
              "    </tr>\n",
              "  </tbody>\n",
              "</table>\n",
              "</div>"
            ],
            "text/plain": [
              "    Id  Covid\n",
              "0    1      0\n",
              "1    2      1\n",
              "2    3      1\n",
              "3    4      0\n",
              "4    5      1\n",
              "5    6      1\n",
              "6    7      1\n",
              "7    8      0\n",
              "8    9      1\n",
              "9   10      1\n",
              "10  11      0\n",
              "11  12      0\n",
              "12  13      0\n",
              "13  14      1\n",
              "14  15      0\n",
              "15  16      1\n",
              "16  17      1\n",
              "17  18      1\n",
              "18  19      1\n",
              "19  20      0\n",
              "20  21      1\n",
              "21  22      1\n",
              "22  23      1\n",
              "23  24      1\n",
              "24  25      0"
            ]
          },
          "execution_count": 64,
          "metadata": {},
          "output_type": "execute_result"
        }
      ],
      "source": [
        "covid_saved_data=pd.read_csv('/content/CovID-19.csv')\n",
        "#Read the first 25 lines\n",
        "covid_saved_data.head(25)"
      ]
    },
    {
      "cell_type": "code",
      "execution_count": null,
      "id": "75ab6a55",
      "metadata": {
        "id": "75ab6a55"
      },
      "outputs": [],
      "source": []
    }
  ],
  "metadata": {
    "kernelspec": {
      "display_name": "Python 3 (ipykernel)",
      "language": "python",
      "name": "python3"
    },
    "language_info": {
      "codemirror_mode": {
        "name": "ipython",
        "version": 3
      },
      "file_extension": ".py",
      "mimetype": "text/x-python",
      "name": "python",
      "nbconvert_exporter": "python",
      "pygments_lexer": "ipython3",
      "version": "3.9.7"
    },
    "colab": {
      "provenance": [],
      "include_colab_link": true
    }
  },
  "nbformat": 4,
  "nbformat_minor": 5
}